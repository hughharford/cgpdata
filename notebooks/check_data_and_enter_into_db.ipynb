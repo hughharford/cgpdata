{
 "cells": [
  {
   "cell_type": "markdown",
   "metadata": {},
   "source": [
    "# SHOW A LIST OF DATA ON THE BUCKET"
   ]
  },
  {
   "cell_type": "code",
   "execution_count": 1,
   "metadata": {},
   "outputs": [],
   "source": [
    "from google.cloud import storage\n",
    "import os\n",
    "\n",
    "GCP_PROJ = os.getenv(\"GCP_PROJECT_ID\")\n",
    "GCP_KEY_FILE = os.getenv(\"GCP_KEY_FILE\")\n",
    "\n",
    "bucket_name = \"cgpdata\""
   ]
  },
  {
   "cell_type": "code",
   "execution_count": 2,
   "metadata": {},
   "outputs": [],
   "source": [
    "def list_blobs(bucket_name):\n",
    "    \"\"\"Lists all the blobs in the bucket.\"\"\"\n",
    "    # bucket_name = \"your-bucket-name\"\n",
    "\n",
    "    storage_client = storage.Client.from_service_account_json(GCP_KEY_FILE)\n",
    "\n",
    "    # Note: Client.list_blobs requires at least package version 1.17.0.\n",
    "    blobs = storage_client.list_blobs(bucket_name)\n",
    "\n",
    "    # Note: The call returns a response only when the iterator is consumed.\n",
    "    for blob in blobs:\n",
    "        print(blob.name)"
   ]
  },
  {
   "cell_type": "code",
   "execution_count": 3,
   "metadata": {},
   "outputs": [
    {
     "name": "stdout",
     "output_type": "stream",
     "text": [
      "gold/\n",
      "hist/\n",
      "hist/2022-8-SPY_5min_alphavantage.csv\n",
      "hist/2022-9-SPY_5min_alphavantage.csv\n",
      "hist/2023-1-SPY_5min_alphavantage.csv\n",
      "hist/2023-10-SPY_5min_alphavantage.csv\n",
      "hist/2023-11-SPY_5min_alphavantage.csv\n",
      "hist/2023-12-SPY_5min_alphavantage.csv\n",
      "hist/2023-2-SPY_5min_alphavantage.csv\n",
      "hist/2023-3-SPY_5min_alphavantage.csv\n",
      "hist/2023-4-SPY_5min_alphavantage.csv\n",
      "hist/2023-5-SPY_5min_alphavantage.csv\n",
      "hist/2023-6-SPY_5min_alphavantage.csv\n",
      "hist/2023-7-SPY_5min_alphavantage.csv\n",
      "hist/2023-8-SPY_5min_alphavantage.csv\n",
      "hist/2023-9-SPY_5min_alphavantage.csv\n",
      "raw/\n",
      "raw/2000-01-SPY_5min_alphavantage.csv\n",
      "raw/2025-02-SPY-5min-alphavantage.csv\n",
      "raw/2025-03-SPY-5min-alphavantage.csv\n",
      "raw/2025-03-^GSPC-5min-yfinance.csv\n",
      "silver/\n"
     ]
    }
   ],
   "source": [
    "list_blobs(bucket_name)"
   ]
  },
  {
   "cell_type": "markdown",
   "metadata": {},
   "source": [
    "## LIST OBJECTS WITH A PREFIX (i.e. folder name)"
   ]
  },
  {
   "cell_type": "code",
   "execution_count": 4,
   "metadata": {},
   "outputs": [],
   "source": [
    "\n",
    "def list_blobs_with_prefix(bucket_name, prefix, delimiter=None):\n",
    "    \"\"\"Lists all the blobs in the bucket that begin with the prefix.\n",
    "\n",
    "    This can be used to list all blobs in a \"folder\", e.g. \"public/\".\n",
    "\n",
    "    The delimiter argument can be used to restrict the results to only the\n",
    "    \"files\" in the given \"folder\". Without the delimiter, the entire tree under\n",
    "    the prefix is returned. For example, given these blobs:\n",
    "\n",
    "        a/1.txt\n",
    "        a/b/2.txt\n",
    "\n",
    "    If you specify prefix ='a/', without a delimiter, you'll get back:\n",
    "\n",
    "        a/1.txt\n",
    "        a/b/2.txt\n",
    "\n",
    "    However, if you specify prefix='a/' and delimiter='/', you'll get back\n",
    "    only the file directly under 'a/':\n",
    "\n",
    "        a/1.txt\n",
    "\n",
    "    As part of the response, you'll also get back a blobs.prefixes entity\n",
    "    that lists the \"subfolders\" under `a/`:\n",
    "\n",
    "        a/b/\n",
    "    \"\"\"\n",
    "\n",
    "    storage_client = storage.Client.from_service_account_json(GCP_KEY_FILE)\n",
    "\n",
    "    # Note: Client.list_blobs requires at least package version 1.17.0.\n",
    "    blobs = storage_client.list_blobs(bucket_name, prefix=prefix, delimiter=delimiter)\n",
    "\n",
    "    # Note: The call returns a response only when the iterator is consumed.\n",
    "    print(\"Blobs:\")\n",
    "    for blob in blobs:\n",
    "        print(blob.name)\n",
    "\n",
    "    if delimiter:\n",
    "        print(\"Prefixes:\")\n",
    "        for prefix in blobs.prefixes:\n",
    "            print(prefix)\n"
   ]
  },
  {
   "cell_type": "code",
   "execution_count": 5,
   "metadata": {},
   "outputs": [
    {
     "name": "stdout",
     "output_type": "stream",
     "text": [
      "Blobs:\n",
      "raw/\n",
      "raw/2000-01-SPY_5min_alphavantage.csv\n",
      "raw/2025-02-SPY-5min-alphavantage.csv\n",
      "raw/2025-03-SPY-5min-alphavantage.csv\n",
      "raw/2025-03-^GSPC-5min-yfinance.csv\n"
     ]
    }
   ],
   "source": [
    "prefix = \"raw\"\n",
    "list_blobs_with_prefix(bucket_name, prefix)"
   ]
  },
  {
   "cell_type": "code",
   "execution_count": 6,
   "metadata": {},
   "outputs": [
    {
     "name": "stdout",
     "output_type": "stream",
     "text": [
      "Blobs:\n"
     ]
    }
   ],
   "source": [
    "prefix = \"raw/yf_sp500/\"\n",
    "list_blobs_with_prefix(bucket_name, prefix)"
   ]
  },
  {
   "cell_type": "code",
   "execution_count": 11,
   "metadata": {},
   "outputs": [],
   "source": [
    "blob_name = \"raw/2000-01-SPY_5min_alphavantage.csv\""
   ]
  },
  {
   "cell_type": "code",
   "execution_count": null,
   "metadata": {},
   "outputs": [],
   "source": [
    "# blob name must include prefix\n",
    "def blob_metadata(bucket_name, blob_name):\n",
    "    \"\"\"Prints out a blob's metadata.\"\"\"\n",
    "    # bucket_name = 'your-bucket-name'\n",
    "    # blob_name = 'your-object-name'\n",
    "\n",
    "    storage_client = storage.Client.from_service_account_json(GCP_KEY_FILE)\n",
    "    bucket = storage_client.bucket(bucket_name)\n",
    "\n",
    "    # Retrieve a blob, and its metadata, from Google Cloud Storage.\n",
    "    # Note that `get_blob` differs from `Bucket.blob`, which does not\n",
    "    # make an HTTP request.\n",
    "    blob = bucket.get_blob(blob_name)\n",
    "\n",
    "    print(f\"Blob: {blob.name}\")\n",
    "    print(f\"Bucket: {blob.bucket.name}\")\n",
    "    print(f\"Storage class: {blob.storage_class}\")\n",
    "    print(f\"ID: {blob.id}\")\n",
    "    print(f\"Size: {blob.size} bytes\")\n",
    "    print(f\"Updated: {blob.updated}\")\n",
    "    print(f\"Generation: {blob.generation}\")\n",
    "    print(f\"Metageneration: {blob.metageneration}\")\n",
    "    print(f\"Etag: {blob.etag}\")\n",
    "    print(f\"Owner: {blob.owner}\")\n",
    "    print(f\"Component count: {blob.component_count}\")\n",
    "    print(f\"Crc32c: {blob.crc32c}\")\n",
    "    print(f\"md5_hash: {blob.md5_hash}\")\n",
    "    print(f\"Cache-control: {blob.cache_control}\")\n",
    "    print(f\"Content-type: {blob.content_type}\")\n",
    "    print(f\"Content-disposition: {blob.content_disposition}\")\n",
    "    print(f\"Content-encoding: {blob.content_encoding}\")\n",
    "    print(f\"Content-language: {blob.content_language}\")\n",
    "    print(f\"Metadata: {blob.metadata}\")\n",
    "    print(f\"Medialink: {blob.media_link}\")\n",
    "    print(f\"Custom Time: {blob.custom_time}\")\n",
    "    print(\"Temporary hold: \", \"enabled\" if blob.temporary_hold else \"disabled\")\n",
    "    print(\n",
    "        \"Event based hold: \",\n",
    "        \"enabled\" if blob.event_based_hold else \"disabled\",\n",
    "    )\n",
    "    print(f\"Retention mode: {blob.retention.mode}\")\n",
    "    print(f\"Retention retain until time: {blob.retention.retain_until_time}\")\n",
    "    if blob.retention_expiration_time:\n",
    "        print(\n",
    "            f\"retentionExpirationTime: {blob.retention_expiration_time}\"\n",
    "        )"
   ]
  },
  {
   "cell_type": "code",
   "execution_count": 13,
   "metadata": {},
   "outputs": [
    {
     "name": "stdout",
     "output_type": "stream",
     "text": [
      "Blob: raw/2000-01-SPY_5min_alphavantage.csv\n",
      "Bucket: cgpdata\n",
      "Storage class: STANDARD\n",
      "ID: cgpdata/raw/2000-01-SPY_5min_alphavantage.csv/1741290020391016\n",
      "Size: 96602 bytes\n",
      "Updated: 2025-03-06 19:40:20.422000+00:00\n",
      "Generation: 1741290020391016\n",
      "Metageneration: 1\n",
      "Etag: COiQ9+ia9osDEAE=\n",
      "Owner: None\n",
      "Component count: None\n",
      "Crc32c: ApH7Zw==\n",
      "md5_hash: qlhZiM4qXCEeMJYZ6qY3oA==\n",
      "Cache-control: None\n",
      "Content-type: text/csv\n",
      "Content-disposition: None\n",
      "Content-encoding: None\n",
      "Content-language: None\n",
      "Metadata: None\n",
      "Medialink: https://storage.googleapis.com/download/storage/v1/b/cgpdata/o/raw%2F2000-01-SPY_5min_alphavantage.csv?generation=1741290020391016&alt=media\n",
      "Custom Time: None\n",
      "Temporary hold:  disabled\n",
      "Event based hold:  disabled\n",
      "Retention mode: None\n",
      "Retention retain until time: None\n"
     ]
    }
   ],
   "source": [
    "blob_metadata(bucket_name, blob_name)"
   ]
  },
  {
   "cell_type": "code",
   "execution_count": null,
   "metadata": {},
   "outputs": [],
   "source": []
  }
 ],
 "metadata": {
  "kernelspec": {
   "display_name": ".venv",
   "language": "python",
   "name": "python3"
  },
  "language_info": {
   "codemirror_mode": {
    "name": "ipython",
    "version": 3
   },
   "file_extension": ".py",
   "mimetype": "text/x-python",
   "name": "python",
   "nbconvert_exporter": "python",
   "pygments_lexer": "ipython3",
   "version": "3.12.6"
  }
 },
 "nbformat": 4,
 "nbformat_minor": 2
}
