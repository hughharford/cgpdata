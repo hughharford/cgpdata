{
 "cells": [
  {
   "cell_type": "code",
   "execution_count": null,
   "metadata": {},
   "outputs": [],
   "source": [
    "# cumulative sum of datafiles uploaded per day"
   ]
  },
  {
   "cell_type": "code",
   "execution_count": null,
   "metadata": {},
   "outputs": [],
   "source": [
    "# counting number of records uploaded to GCS per day\n",
    "psql_query = \"\"\"SELECT\n",
    "--\tCOUNT(d.data_file_name) AS count,\n",
    "\td.upload_time_date AS uploadtime,\n",
    "--\tEXTRACT(DAY FROM d.upload_time_date) AS day_uploaded,\n",
    "\tCOUNT(*) OVER (PARTITION BY EXTRACT(DAY FROM d.upload_time_date)) as upload_per_day\n",
    "FROM\n",
    "\tdatafiles d\n",
    "GROUP BY\n",
    "\tuploadtime;\n",
    "\"\"\""
   ]
  }
 ],
 "metadata": {
  "language_info": {
   "name": "python"
  }
 },
 "nbformat": 4,
 "nbformat_minor": 2
}
