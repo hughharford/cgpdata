{
 "cells": [
  {
   "cell_type": "code",
   "execution_count": 4,
   "metadata": {},
   "outputs": [],
   "source": [
    "import yfinance as yf\n",
    "import pandas as pd\n",
    "import os\n",
    "# from dotenv import load_dotenv\n",
    "import requests\n",
    "import time\n",
    "\n",
    "\n",
    "# load_dotenv()"
   ]
  },
  {
   "cell_type": "code",
   "execution_count": 5,
   "metadata": {},
   "outputs": [
    {
     "name": "stdout",
     "output_type": "stream",
     "text": [
      "condorgp-451516\n"
     ]
    }
   ],
   "source": [
    "!echo $GCP_PROJECT_ID"
   ]
  },
  {
   "cell_type": "code",
   "execution_count": 6,
   "metadata": {},
   "outputs": [
    {
     "data": {
      "text/plain": [
       "'condorgp-451516'"
      ]
     },
     "execution_count": 6,
     "metadata": {},
     "output_type": "execute_result"
    }
   ],
   "source": [
    "PROJECTID = os.getenv(\"GCP_PROJECT_ID\")\n",
    "PROJECTID"
   ]
  },
  {
   "cell_type": "markdown",
   "metadata": {},
   "source": [
    "# Yfinance\n",
    "- Yahoo Finance API Documentation: https://python-yahoofinance.readthedocs.io/en/latest/api.html\n",
    "- Yfinance documentaion: https://yfinance-python.org/\n",
    "- Yahoo Finance S&P 500 Page: https://finance.yahoo.com/lookup/\n",
    "- To find other ticker symbols, use: https://finance.yahoo.com/lookup\n",
    "- List of S&P 500 companies: https://en.wikipedia.org/wiki/List_of_S%26P_500_companies"
   ]
  },
  {
   "cell_type": "code",
   "execution_count": 7,
   "metadata": {},
   "outputs": [
    {
     "name": "stdout",
     "output_type": "stream",
     "text": [
      "YF.download() has changed argument auto_adjust default to True\n"
     ]
    },
    {
     "name": "stderr",
     "output_type": "stream",
     "text": [
      "[*********************100%***********************]  1 of 1 completed\n"
     ]
    },
    {
     "data": {
      "text/html": [
       "<div>\n",
       "<style scoped>\n",
       "    .dataframe tbody tr th:only-of-type {\n",
       "        vertical-align: middle;\n",
       "    }\n",
       "\n",
       "    .dataframe tbody tr th {\n",
       "        vertical-align: top;\n",
       "    }\n",
       "\n",
       "    .dataframe thead tr th {\n",
       "        text-align: left;\n",
       "    }\n",
       "\n",
       "    .dataframe thead tr:last-of-type th {\n",
       "        text-align: right;\n",
       "    }\n",
       "</style>\n",
       "<table border=\"1\" class=\"dataframe\">\n",
       "  <thead>\n",
       "    <tr>\n",
       "      <th>Price</th>\n",
       "      <th>Close</th>\n",
       "      <th>High</th>\n",
       "      <th>Low</th>\n",
       "      <th>Open</th>\n",
       "      <th>Volume</th>\n",
       "    </tr>\n",
       "    <tr>\n",
       "      <th>Ticker</th>\n",
       "      <th>^GSPC</th>\n",
       "      <th>^GSPC</th>\n",
       "      <th>^GSPC</th>\n",
       "      <th>^GSPC</th>\n",
       "      <th>^GSPC</th>\n",
       "    </tr>\n",
       "    <tr>\n",
       "      <th>Date</th>\n",
       "      <th></th>\n",
       "      <th></th>\n",
       "      <th></th>\n",
       "      <th></th>\n",
       "      <th></th>\n",
       "    </tr>\n",
       "  </thead>\n",
       "  <tbody>\n",
       "    <tr>\n",
       "      <th>2025-02-03</th>\n",
       "      <td>5994.569824</td>\n",
       "      <td>6022.129883</td>\n",
       "      <td>5923.930176</td>\n",
       "      <td>5969.649902</td>\n",
       "      <td>4797210000</td>\n",
       "    </tr>\n",
       "    <tr>\n",
       "      <th>2025-02-04</th>\n",
       "      <td>6037.879883</td>\n",
       "      <td>6042.479980</td>\n",
       "      <td>5990.870117</td>\n",
       "      <td>5998.140137</td>\n",
       "      <td>4410160000</td>\n",
       "    </tr>\n",
       "  </tbody>\n",
       "</table>\n",
       "</div>"
      ],
      "text/plain": [
       "Price             Close         High          Low         Open      Volume\n",
       "Ticker            ^GSPC        ^GSPC        ^GSPC        ^GSPC       ^GSPC\n",
       "Date                                                                      \n",
       "2025-02-03  5994.569824  6022.129883  5923.930176  5969.649902  4797210000\n",
       "2025-02-04  6037.879883  6042.479980  5990.870117  5998.140137  4410160000"
      ]
     },
     "execution_count": 7,
     "metadata": {},
     "output_type": "execute_result"
    }
   ],
   "source": [
    "# Fetch S&P 500 data from Yf\n",
    "sp500_data = yf.download('^GSPC', start='2025-02-01', end='2025-02-05')\n",
    "sp500_data\n"
   ]
  },
  {
   "cell_type": "code",
   "execution_count": 8,
   "metadata": {},
   "outputs": [
    {
     "name": "stdout",
     "output_type": "stream",
     "text": [
      "{'maxAge': 86400, 'priceHint': 2, 'previousClose': 5861.57, 'open': 5856.74, 'dayLow': 5842.78, 'dayHigh': 5864.44, 'regularMarketPreviousClose': 5861.57, 'regularMarketOpen': 5856.74, 'regularMarketDayLow': 5842.78, 'regularMarketDayHigh': 5864.44, 'volume': 219652818, 'regularMarketVolume': 219652818, 'averageVolume': 4383742666, 'averageVolume10days': 4888662000, 'averageDailyVolume10Day': 4888662000, 'bid': 5851.96, 'ask': 5862.59, 'bidSize': 0, 'askSize': 0, 'fiftyTwoWeekLow': 4953.56, 'fiftyTwoWeekHigh': 6147.43, 'fiftyDayAverage': 6000.558, 'twoHundredDayAverage': 5716.4287, 'currency': 'USD', 'tradeable': False, '52WeekChange': 14.10315, 'quoteType': 'INDEX', 'symbol': '^GSPC', 'language': 'en-US', 'region': 'US', 'typeDisp': 'Index', 'quoteSourceName': 'Free Realtime Quote', 'triggerable': True, 'customPriceAlertConfidence': 'HIGH', 'shortName': 'S&P 500', 'longName': 'S&P 500', 'corporateActions': [], 'regularMarketTime': 1740753369, 'exchange': 'SNP', 'messageBoardId': 'finmb_INDEXGSPC', 'exchangeTimezoneName': 'America/New_York', 'exchangeTimezoneShortName': 'EST', 'gmtOffSetMilliseconds': -18000000, 'market': 'us_market', 'esgPopulated': False, 'regularMarketChangePercent': -0.009720529, 'regularMarketPrice': 5861.0, 'marketState': 'REGULAR', 'hasPrePostMarketData': False, 'firstTradeDateMilliseconds': -1325583000000, 'regularMarketChange': -0.5698242, 'regularMarketDayRange': '5842.78 - 5864.44', 'fullExchangeName': 'SNP', 'averageDailyVolume3Month': 4383742666, 'fiftyTwoWeekLowChange': 907.43994, 'fiftyTwoWeekLowChangePercent': 0.18318945, 'fiftyTwoWeekRange': '4953.56 - 6147.43', 'fiftyTwoWeekHighChange': -286.43018, 'fiftyTwoWeekHighChangePercent': -0.046593484, 'fiftyTwoWeekChangePercent': 14.10315, 'fiftyDayAverageChange': -139.5581, 'fiftyDayAverageChangePercent': -0.02325752, 'twoHundredDayAverageChange': 144.57129, 'twoHundredDayAverageChangePercent': 0.025290491, 'sourceInterval': 15, 'exchangeDataDelayedBy': 0, 'cryptoTradeable': False, 'trailingPegRatio': None}\n"
     ]
    },
    {
     "name": "stderr",
     "output_type": "stream",
     "text": [
      "404 Client Error: Not Found for url: https://query2.finance.yahoo.com/v10/finance/quoteSummary/%5EGSPC?modules=calendarEvents&corsDomain=finance.yahoo.com&formatted=false&symbol=%5EGSPC&crumb=gNPnal9a0w8\n",
      "404 Client Error: Not Found for url: https://query2.finance.yahoo.com/v10/finance/quoteSummary/%5EGSPC?modules=financialData&corsDomain=finance.yahoo.com&formatted=false&symbol=%5EGSPC&crumb=gNPnal9a0w8\n"
     ]
    },
    {
     "name": "stdout",
     "output_type": "stream",
     "text": [
      "{}\n",
      "{}\n"
     ]
    }
   ],
   "source": [
    "sp500 = yf.Ticker(\"^GSPC\")\n",
    "print(sp500.info)\n",
    "print(sp500.calendar)\n",
    "print(sp500.analyst_price_targets)\n"
   ]
  },
  {
   "cell_type": "markdown",
   "metadata": {},
   "source": []
  },
  {
   "cell_type": "markdown",
   "metadata": {},
   "source": [
    "# Alpha Vantage\n",
    "- documentaion:https://www.alphavantage.co/documentation/ "
   ]
  },
  {
   "cell_type": "code",
   "execution_count": 9,
   "metadata": {},
   "outputs": [
    {
     "name": "stdout",
     "output_type": "stream",
     "text": [
      "                      1. open   2. high    3. low  4. close 5. volume\n",
      "2025-02-27 20:00:00  585.0500  585.0500  585.0500  585.0500   1625705\n",
      "2025-02-27 19:55:00  585.1485  585.1500  584.8800  584.8800      8403\n",
      "2025-02-27 19:50:00  585.2394  585.2400  585.0100  585.1100      5705\n",
      "2025-02-27 19:45:00  585.1900  585.2700  585.0100  585.2500     14409\n",
      "2025-02-27 19:40:00  585.7100  585.7100  585.1100  585.2299      3779\n"
     ]
    }
   ],
   "source": [
    "API_KEY = os.getenv(\"ALPHA_VANTAGE_API_KEY\")\n",
    "url = f\"https://www.alphavantage.co/query?function=TIME_SERIES_INTRADAY&symbol=SPY&interval=5min&apikey={API_KEY}\"\n",
    "\n",
    "response = requests.get(url)\n",
    "data = response.json()\n",
    "\n",
    "df = pd.DataFrame.from_dict(data[\"Time Series (5min)\"], orient=\"index\")\n",
    "print(df.head())\n"
   ]
  },
  {
   "cell_type": "markdown",
   "metadata": {},
   "source": [
    "# More reliable APIs:\n",
    "- IEX Cloud: https://publicapi.dev/iex-cloud-api\n",
    "- Polygon.io: https://polygon.io/docs/indices/getting-started"
   ]
  },
  {
   "cell_type": "code",
   "execution_count": null,
   "metadata": {},
   "outputs": [],
   "source": []
  }
 ],
 "metadata": {
  "kernelspec": {
   "display_name": ".venv",
   "language": "python",
   "name": "python3"
  },
  "language_info": {
   "codemirror_mode": {
    "name": "ipython",
    "version": 3
   },
   "file_extension": ".py",
   "mimetype": "text/x-python",
   "name": "python",
   "nbconvert_exporter": "python",
   "pygments_lexer": "ipython3",
   "version": "3.12.6"
  }
 },
 "nbformat": 4,
 "nbformat_minor": 2
}
