{
 "cells": [
  {
   "cell_type": "code",
   "execution_count": 4,
   "metadata": {},
   "outputs": [
    {
     "data": {
      "text/plain": [
       "True"
      ]
     },
     "execution_count": 4,
     "metadata": {},
     "output_type": "execute_result"
    }
   ],
   "source": [
    "import yfinance as yf\n",
    "import pandas as pd\n",
    "import os\n",
    "from dotenv import load_dotenv\n",
    "import requests\n",
    "import time\n",
    "\n",
    "\n",
    "load_dotenv()"
   ]
  },
  {
   "cell_type": "markdown",
   "metadata": {},
   "source": [
    "# Yfinance\n",
    "- Yahoo Finance API Documentation: https://python-yahoofinance.readthedocs.io/en/latest/api.html\n",
    "- Yfinance documentaion: https://yfinance-python.org/\n",
    "- Yahoo Finance S&P 500 Page: https://finance.yahoo.com/lookup/\n",
    "- To find other ticker symbols, use: https://finance.yahoo.com/lookup\n",
    "- List of S&P 500 companies: https://en.wikipedia.org/wiki/List_of_S%26P_500_companies"
   ]
  },
  {
   "cell_type": "code",
   "execution_count": 5,
   "metadata": {},
   "outputs": [
    {
     "name": "stdout",
     "output_type": "stream",
     "text": [
      "YF.download() has changed argument auto_adjust default to True\n"
     ]
    },
    {
     "name": "stderr",
     "output_type": "stream",
     "text": [
      "[*********************100%***********************]  1 of 1 completed\n"
     ]
    },
    {
     "data": {
      "text/html": [
       "<div>\n",
       "<style scoped>\n",
       "    .dataframe tbody tr th:only-of-type {\n",
       "        vertical-align: middle;\n",
       "    }\n",
       "\n",
       "    .dataframe tbody tr th {\n",
       "        vertical-align: top;\n",
       "    }\n",
       "\n",
       "    .dataframe thead tr th {\n",
       "        text-align: left;\n",
       "    }\n",
       "\n",
       "    .dataframe thead tr:last-of-type th {\n",
       "        text-align: right;\n",
       "    }\n",
       "</style>\n",
       "<table border=\"1\" class=\"dataframe\">\n",
       "  <thead>\n",
       "    <tr>\n",
       "      <th>Price</th>\n",
       "      <th>Close</th>\n",
       "      <th>High</th>\n",
       "      <th>Low</th>\n",
       "      <th>Open</th>\n",
       "      <th>Volume</th>\n",
       "    </tr>\n",
       "    <tr>\n",
       "      <th>Ticker</th>\n",
       "      <th>^GSPC</th>\n",
       "      <th>^GSPC</th>\n",
       "      <th>^GSPC</th>\n",
       "      <th>^GSPC</th>\n",
       "      <th>^GSPC</th>\n",
       "    </tr>\n",
       "    <tr>\n",
       "      <th>Date</th>\n",
       "      <th></th>\n",
       "      <th></th>\n",
       "      <th></th>\n",
       "      <th></th>\n",
       "      <th></th>\n",
       "    </tr>\n",
       "  </thead>\n",
       "  <tbody>\n",
       "    <tr>\n",
       "      <th>2025-02-03</th>\n",
       "      <td>5994.569824</td>\n",
       "      <td>6022.129883</td>\n",
       "      <td>5923.930176</td>\n",
       "      <td>5969.649902</td>\n",
       "      <td>4797210000</td>\n",
       "    </tr>\n",
       "    <tr>\n",
       "      <th>2025-02-04</th>\n",
       "      <td>6037.879883</td>\n",
       "      <td>6042.479980</td>\n",
       "      <td>5990.870117</td>\n",
       "      <td>5998.140137</td>\n",
       "      <td>4410160000</td>\n",
       "    </tr>\n",
       "  </tbody>\n",
       "</table>\n",
       "</div>"
      ],
      "text/plain": [
       "Price             Close         High          Low         Open      Volume\n",
       "Ticker            ^GSPC        ^GSPC        ^GSPC        ^GSPC       ^GSPC\n",
       "Date                                                                      \n",
       "2025-02-03  5994.569824  6022.129883  5923.930176  5969.649902  4797210000\n",
       "2025-02-04  6037.879883  6042.479980  5990.870117  5998.140137  4410160000"
      ]
     },
     "execution_count": 5,
     "metadata": {},
     "output_type": "execute_result"
    }
   ],
   "source": [
    "# Fetch S&P 500 data from Yf\n",
    "sp500_data = yf.download('^GSPC', start='2025-02-01', end='2025-02-05')\n",
    "sp500_data\n"
   ]
  },
  {
   "cell_type": "code",
   "execution_count": 6,
   "metadata": {},
   "outputs": [
    {
     "name": "stdout",
     "output_type": "stream",
     "text": [
      "{'maxAge': 86400, 'priceHint': 2, 'previousClose': 5956.06, 'open': 5981.88, 'dayLow': 5858.78, 'dayHigh': 5993.69, 'regularMarketPreviousClose': 5956.06, 'regularMarketOpen': 5981.88, 'regularMarketDayLow': 5858.78, 'regularMarketDayHigh': 5993.69, 'volume': 3317244000, 'regularMarketVolume': 3317244000, 'averageVolume': 4372320000, 'averageVolume10days': 4845690000, 'averageDailyVolume10Day': 4845690000, 'bid': 5818.23, 'ask': 5918.62, 'bidSize': 0, 'askSize': 0, 'fiftyTwoWeekLow': 4953.56, 'fiftyTwoWeekHigh': 6147.43, 'fiftyDayAverage': 6004.3516, 'twoHundredDayAverage': 5713.1914, 'currency': 'USD', 'tradeable': False, '52WeekChange': 16.870964, 'quoteType': 'INDEX', 'symbol': '^GSPC', 'language': 'en-US', 'region': 'US', 'typeDisp': 'Index', 'quoteSourceName': 'Delayed Quote', 'triggerable': True, 'customPriceAlertConfidence': 'HIGH', 'regularMarketChangePercent': -1.5864553, 'regularMarketPrice': 5861.57, 'marketState': 'POST', 'hasPrePostMarketData': False, 'firstTradeDateMilliseconds': -1325583000000, 'regularMarketChange': -94.490234, 'corporateActions': [], 'regularMarketTime': 1740691201, 'exchange': 'SNP', 'messageBoardId': 'finmb_INDEXGSPC', 'exchangeTimezoneName': 'America/New_York', 'exchangeTimezoneShortName': 'EST', 'gmtOffSetMilliseconds': -18000000, 'market': 'us_market', 'esgPopulated': False, 'shortName': 'S&P 500', 'longName': 'S&P 500', 'regularMarketDayRange': '5858.78 - 5993.69', 'fullExchangeName': 'SNP', 'averageDailyVolume3Month': 4372320000, 'fiftyTwoWeekLowChange': 908.00977, 'fiftyTwoWeekLowChangePercent': 0.18330449, 'fiftyTwoWeekRange': '4953.56 - 6147.43', 'fiftyTwoWeekHighChange': -285.86035, 'fiftyTwoWeekHighChangePercent': -0.046500787, 'fiftyTwoWeekChangePercent': 16.870964, 'fiftyDayAverageChange': -142.78174, 'fiftyDayAverageChangePercent': -0.02377971, 'twoHundredDayAverageChange': 148.37842, 'twoHundredDayAverageChangePercent': 0.025971197, 'sourceInterval': 15, 'exchangeDataDelayedBy': 0, 'cryptoTradeable': False, 'trailingPegRatio': None}\n"
     ]
    },
    {
     "name": "stderr",
     "output_type": "stream",
     "text": [
      "404 Client Error: Not Found for url: https://query2.finance.yahoo.com/v10/finance/quoteSummary/%5EGSPC?modules=calendarEvents&corsDomain=finance.yahoo.com&formatted=false&symbol=%5EGSPC&crumb=O2XI1RBVWNY\n"
     ]
    },
    {
     "name": "stdout",
     "output_type": "stream",
     "text": [
      "{}\n"
     ]
    },
    {
     "name": "stderr",
     "output_type": "stream",
     "text": [
      "404 Client Error: Not Found for url: https://query2.finance.yahoo.com/v10/finance/quoteSummary/%5EGSPC?modules=financialData&corsDomain=finance.yahoo.com&formatted=false&symbol=%5EGSPC&crumb=O2XI1RBVWNY\n"
     ]
    },
    {
     "name": "stdout",
     "output_type": "stream",
     "text": [
      "{}\n"
     ]
    }
   ],
   "source": [
    "sp500 = yf.Ticker(\"^GSPC\")\n",
    "print(sp500.info)\n",
    "print(sp500.calendar)\n",
    "print(sp500.analyst_price_targets)\n"
   ]
  },
  {
   "cell_type": "markdown",
   "metadata": {},
   "source": []
  },
  {
   "cell_type": "markdown",
   "metadata": {},
   "source": [
    "# Alpha Vantage\n",
    "- documentaion:https://www.alphavantage.co/documentation/ "
   ]
  },
  {
   "cell_type": "code",
   "execution_count": 16,
   "metadata": {},
   "outputs": [
    {
     "name": "stdout",
     "output_type": "stream",
     "text": [
      "                      1. open   2. high    3. low  4. close 5. volume\n",
      "2025-02-26 20:00:00  594.5400  594.5400  594.5400  594.5400    751074\n",
      "2025-02-26 19:55:00  594.0700  594.0700  593.6100  593.6800     24362\n",
      "2025-02-26 19:50:00  594.1500  594.2900  593.9800  594.0600     12547\n",
      "2025-02-26 19:45:00  594.2500  594.3200  594.1000  594.1900      2592\n",
      "2025-02-26 19:40:00  594.1600  594.2500  594.1000  594.2000      5042\n"
     ]
    }
   ],
   "source": [
    "API_KEY = os.getenv(\"ALPHA_VANTAGE_API_KEY\")\n",
    "url = f\"https://www.alphavantage.co/query?function=TIME_SERIES_INTRADAY&symbol=SPY&interval=5min&apikey={API_KEY}\"\n",
    "\n",
    "response = requests.get(url)\n",
    "data = response.json()\n",
    "\n",
    "df = pd.DataFrame.from_dict(data[\"Time Series (5min)\"], orient=\"index\")\n",
    "print(df.head())\n"
   ]
  },
  {
   "cell_type": "markdown",
   "metadata": {},
   "source": [
    "# More reliable APIs:\n",
    "- IEX Cloud: https://publicapi.dev/iex-cloud-api\n",
    "- Polygon.io: https://polygon.io/docs/indices/getting-started"
   ]
  },
  {
   "cell_type": "code",
   "execution_count": null,
   "metadata": {},
   "outputs": [],
   "source": []
  }
 ],
 "metadata": {
  "kernelspec": {
   "display_name": ".venv",
   "language": "python",
   "name": "python3"
  },
  "language_info": {
   "codemirror_mode": {
    "name": "ipython",
    "version": 3
   },
   "file_extension": ".py",
   "mimetype": "text/x-python",
   "name": "python",
   "nbconvert_exporter": "python",
   "pygments_lexer": "ipython3",
   "version": "3.8.14"
  }
 },
 "nbformat": 4,
 "nbformat_minor": 2
}
